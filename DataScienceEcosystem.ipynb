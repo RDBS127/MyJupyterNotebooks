{
 "cells": [
  {
   "cell_type": "markdown",
   "id": "35845ecb-ca7a-4337-897d-62d1aa8558b7",
   "metadata": {},
   "source": [
    "# Data Science Tools and Ecosystem"
   ]
  },
  {
   "cell_type": "markdown",
   "id": "1386d082-00fa-44d5-8c4b-bb648bf5458b",
   "metadata": {},
   "source": [
    "In this notebook, Data Science Tools and Ecosystem are summarized"
   ]
  },
  {
   "cell_type": "markdown",
   "id": "0bdb515e-7ce7-4c8d-bdde-df693650e50f",
   "metadata": {},
   "source": [
    "**Objectives**\n",
    "\n",
    "- List common languages\n",
    "- List common libraries\n",
    "- demonstrate my understanding of what I learned\n",
    "- write code\n",
    "- write commments and markdowns"
   ]
  },
  {
   "cell_type": "markdown",
   "id": "9cf2bad0-c9ef-47ec-ae34-e8196e929a5c",
   "metadata": {},
   "source": [
    "## "
   ]
  },
  {
   "cell_type": "markdown",
   "id": "f7251551-0061-4a63-a32a-e01b99295412",
   "metadata": {},
   "source": [
    "Some of the popular languages that Data Scientists use are:\n",
    "1. R\n",
    "2. Python\n",
    "3. Julia\n",
    "4. Java\n"
   ]
  },
  {
   "cell_type": "markdown",
   "id": "ff7409ac-b21d-4182-86cf-6ff49b255f60",
   "metadata": {},
   "source": [
    "Some of the commonly used libraries used by Data Scientists include:\n",
    "\n",
    "1. Matplotlib\n",
    "2. Pandas\n",
    "3. Plotly\n",
    "4. Ggplot2"
   ]
  },
  {
   "cell_type": "markdown",
   "id": "35085611-78bb-4ab9-9965-23b4830248ea",
   "metadata": {},
   "source": [
    "|Data Science Tools|\n",
    "|-----------|\n",
    "|Tensorflow|\n",
    "|Apache Spark|\n",
    "|Apache Hadoop|"
   ]
  },
  {
   "cell_type": "markdown",
   "id": "400d42e2-b75a-4d28-92dc-511a4c25fc48",
   "metadata": {},
   "source": [
    "### Below are a few examples of evaluating arithmetic expressions in Python"
   ]
  },
  {
   "cell_type": "code",
   "execution_count": 19,
   "id": "5da9509f-96c2-4276-bd89-a8941e34d9b5",
   "metadata": {},
   "outputs": [
    {
     "data": {
      "text/plain": [
       "17"
      ]
     },
     "execution_count": 19,
     "metadata": {},
     "output_type": "execute_result"
    }
   ],
   "source": [
    "#This is a simple arithmetic expression to multiply then add integers\n",
    "\n",
    "(3*4)+5"
   ]
  },
  {
   "cell_type": "code",
   "execution_count": 21,
   "id": "f1748912-6850-40b3-96df-7b04142c1044",
   "metadata": {},
   "outputs": [
    {
     "data": {
      "text/plain": [
       "3.3333333333333335"
      ]
     },
     "execution_count": 21,
     "metadata": {},
     "output_type": "execute_result"
    }
   ],
   "source": [
    "#This line of code will convert 200 minutes to hours\n",
    "\n",
    "200/60"
   ]
  },
  {
   "cell_type": "code",
   "execution_count": null,
   "id": "5e57251f-fddc-45b4-9f0d-82b5294083a4",
   "metadata": {},
   "outputs": [],
   "source": []
  }
 ],
 "metadata": {
  "kernelspec": {
   "display_name": "Python 3 (ipykernel)",
   "language": "python",
   "name": "python3"
  },
  "language_info": {
   "codemirror_mode": {
    "name": "ipython",
    "version": 3
   },
   "file_extension": ".py",
   "mimetype": "text/x-python",
   "name": "python",
   "nbconvert_exporter": "python",
   "pygments_lexer": "ipython3",
   "version": "3.12.4"
  }
 },
 "nbformat": 4,
 "nbformat_minor": 5
}
